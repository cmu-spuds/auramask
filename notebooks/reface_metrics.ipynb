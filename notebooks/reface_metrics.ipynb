{
 "cells": [
  {
   "cell_type": "code",
   "execution_count": 1,
   "metadata": {},
   "outputs": [
    {
     "name": "stderr",
     "output_type": "stream",
     "text": [
      "2024-02-22 00:03:16.009605: I tensorflow/core/util/port.cc:113] oneDNN custom operations are on. You may see slightly different numerical results due to floating-point round-off errors from different computation orders. To turn them off, set the environment variable `TF_ENABLE_ONEDNN_OPTS=0`.\n",
      "2024-02-22 00:03:16.047589: E external/local_xla/xla/stream_executor/cuda/cuda_dnn.cc:9261] Unable to register cuDNN factory: Attempting to register factory for plugin cuDNN when one has already been registered\n",
      "2024-02-22 00:03:16.047613: E external/local_xla/xla/stream_executor/cuda/cuda_fft.cc:607] Unable to register cuFFT factory: Attempting to register factory for plugin cuFFT when one has already been registered\n",
      "2024-02-22 00:03:16.048516: E external/local_xla/xla/stream_executor/cuda/cuda_blas.cc:1515] Unable to register cuBLAS factory: Attempting to register factory for plugin cuBLAS when one has already been registered\n",
      "2024-02-22 00:03:16.054847: I tensorflow/core/platform/cpu_feature_guard.cc:182] This TensorFlow binary is optimized to use available CPU instructions in performance-critical operations.\n",
      "To enable the following instructions: AVX2 AVX512F AVX512_VNNI FMA, in other operations, rebuild TensorFlow with the appropriate compiler flags.\n",
      "2024-02-22 00:03:16.942852: W tensorflow/compiler/tf2tensorrt/utils/py_utils.cc:38] TF-TRT Warning: Could not find TensorRT\n"
     ]
    },
    {
     "name": "stdout",
     "output_type": "stream",
     "text": [
      "Using TensorFlow backend\n"
     ]
    }
   ],
   "source": [
    "from auramask.metrics import EmbeddingDistance, PerceptualSimilarity\n",
    "from auramask.models import FaceEmbedEnum"
   ]
  },
  {
   "cell_type": "markdown",
   "metadata": {},
   "source": [
    "## Inputs"
   ]
  },
  {
   "cell_type": "markdown",
   "metadata": {},
   "source": [
    "### Victim Models (F)"
   ]
  },
  {
   "cell_type": "code",
   "execution_count": 2,
   "metadata": {},
   "outputs": [
    {
     "name": "stderr",
     "output_type": "stream",
     "text": [
      "2024-02-22 00:03:19.121066: I external/local_xla/xla/stream_executor/cuda/cuda_executor.cc:901] successful NUMA node read from SysFS had negative value (-1), but there must be at least one NUMA node, so returning NUMA node zero. See more at https://github.com/torvalds/linux/blob/v6.0/Documentation/ABI/testing/sysfs-bus-pci#L344-L355\n",
      "2024-02-22 00:03:19.155700: I external/local_xla/xla/stream_executor/cuda/cuda_executor.cc:901] successful NUMA node read from SysFS had negative value (-1), but there must be at least one NUMA node, so returning NUMA node zero. See more at https://github.com/torvalds/linux/blob/v6.0/Documentation/ABI/testing/sysfs-bus-pci#L344-L355\n",
      "2024-02-22 00:03:19.157141: I external/local_xla/xla/stream_executor/cuda/cuda_executor.cc:901] successful NUMA node read from SysFS had negative value (-1), but there must be at least one NUMA node, so returning NUMA node zero. See more at https://github.com/torvalds/linux/blob/v6.0/Documentation/ABI/testing/sysfs-bus-pci#L344-L355\n",
      "2024-02-22 00:03:19.160916: I external/local_xla/xla/stream_executor/cuda/cuda_executor.cc:901] successful NUMA node read from SysFS had negative value (-1), but there must be at least one NUMA node, so returning NUMA node zero. See more at https://github.com/torvalds/linux/blob/v6.0/Documentation/ABI/testing/sysfs-bus-pci#L344-L355\n",
      "2024-02-22 00:03:19.162460: I external/local_xla/xla/stream_executor/cuda/cuda_executor.cc:901] successful NUMA node read from SysFS had negative value (-1), but there must be at least one NUMA node, so returning NUMA node zero. See more at https://github.com/torvalds/linux/blob/v6.0/Documentation/ABI/testing/sysfs-bus-pci#L344-L355\n",
      "2024-02-22 00:03:19.163818: I external/local_xla/xla/stream_executor/cuda/cuda_executor.cc:901] successful NUMA node read from SysFS had negative value (-1), but there must be at least one NUMA node, so returning NUMA node zero. See more at https://github.com/torvalds/linux/blob/v6.0/Documentation/ABI/testing/sysfs-bus-pci#L344-L355\n",
      "2024-02-22 00:03:19.329352: I external/local_xla/xla/stream_executor/cuda/cuda_executor.cc:901] successful NUMA node read from SysFS had negative value (-1), but there must be at least one NUMA node, so returning NUMA node zero. See more at https://github.com/torvalds/linux/blob/v6.0/Documentation/ABI/testing/sysfs-bus-pci#L344-L355\n",
      "2024-02-22 00:03:19.330859: I external/local_xla/xla/stream_executor/cuda/cuda_executor.cc:901] successful NUMA node read from SysFS had negative value (-1), but there must be at least one NUMA node, so returning NUMA node zero. See more at https://github.com/torvalds/linux/blob/v6.0/Documentation/ABI/testing/sysfs-bus-pci#L344-L355\n",
      "2024-02-22 00:03:19.332289: W tensorflow/core/common_runtime/gpu/gpu_bfc_allocator.cc:47] Overriding orig_value setting because the TF_FORCE_GPU_ALLOW_GROWTH environment variable is set. Original config value was 0.\n",
      "2024-02-22 00:03:19.332331: I external/local_xla/xla/stream_executor/cuda/cuda_executor.cc:901] successful NUMA node read from SysFS had negative value (-1), but there must be at least one NUMA node, so returning NUMA node zero. See more at https://github.com/torvalds/linux/blob/v6.0/Documentation/ABI/testing/sysfs-bus-pci#L344-L355\n",
      "2024-02-22 00:03:19.333616: I tensorflow/core/common_runtime/gpu/gpu_device.cc:1929] Created device /job:localhost/replica:0/task:0/device:GPU:0 with 12103 MB memory:  -> device: 0, name: NVIDIA A10, pci bus id: 0000:00:04.0, compute capability: 8.6\n"
     ]
    }
   ],
   "source": [
    "F = [FaceEmbedEnum.ARCFACE, FaceEmbedEnum.DEEPFACE, FaceEmbedEnum.DEEPID]\n",
    "F_set = FaceEmbedEnum.build_F(F)"
   ]
  },
  {
   "cell_type": "markdown",
   "metadata": {},
   "source": [
    "### HyperParams"
   ]
  },
  {
   "cell_type": "code",
   "execution_count": 3,
   "metadata": {},
   "outputs": [],
   "source": [
    "lda = 0.2\n",
    "# Backbones are 'vgg', 'alex', 'squeeze'\n",
    "backbone = \"vgg\""
   ]
  },
  {
   "cell_type": "markdown",
   "metadata": {},
   "source": [
    "# Metrics"
   ]
  },
  {
   "cell_type": "markdown",
   "metadata": {},
   "source": [
    "## Perceptual Similarity"
   ]
  },
  {
   "cell_type": "code",
   "execution_count": 4,
   "metadata": {},
   "outputs": [],
   "source": [
    "lpips = PerceptualSimilarity(backbone=backbone, spatial=False)"
   ]
  },
  {
   "cell_type": "code",
   "execution_count": 5,
   "metadata": {},
   "outputs": [
    {
     "data": {
      "text/plain": [
       "{'name': 'Lpips', 'model': {}}"
      ]
     },
     "execution_count": 5,
     "metadata": {},
     "output_type": "execute_result"
    }
   ],
   "source": [
    "lpips.get_config()"
   ]
  },
  {
   "cell_type": "markdown",
   "metadata": {},
   "source": [
    "## Embedding Distance"
   ]
  },
  {
   "cell_type": "code",
   "execution_count": 6,
   "metadata": {},
   "outputs": [],
   "source": [
    "embeddist = EmbeddingDistance(F=F)"
   ]
  },
  {
   "cell_type": "code",
   "execution_count": 7,
   "metadata": {},
   "outputs": [
    {
     "data": {
      "text/plain": [
       "{'name': 'Embedding Distance',\n",
       " 'Cosine Similarity': <keras.src.losses.CosineSimilarity at 0x7f4bc9269d90>,\n",
       " 'F': ListWrapper([<FaceEmbedEnum.ARCFACE: 'ArcFace'>, <FaceEmbedEnum.DEEPFACE: 'DeepFace'>, <FaceEmbedEnum.DEEPID: 'DeepID'>])}"
      ]
     },
     "execution_count": 7,
     "metadata": {},
     "output_type": "execute_result"
    }
   ],
   "source": [
    "embeddist.get_config()"
   ]
  },
  {
   "cell_type": "markdown",
   "metadata": {},
   "source": [
    "# Test\n",
    "Testing the giving parts of the loss"
   ]
  },
  {
   "cell_type": "code",
   "execution_count": 8,
   "metadata": {},
   "outputs": [],
   "source": [
    "import tensorflow_datasets as tfds\n",
    "from keras_cv.layers import (\n",
    "    Resizing,\n",
    "    Rescaling,\n",
    "    Augmenter,\n",
    "    RandomContrast,\n",
    "    RandomColorDegeneration,\n",
    ")\n",
    "from tensorflow.data import AUTOTUNE\n",
    "\n",
    "BATCH_SIZE = 16"
   ]
  },
  {
   "cell_type": "code",
   "execution_count": 9,
   "metadata": {},
   "outputs": [
    {
     "name": "stderr",
     "output_type": "stream",
     "text": [
      "WARNING:absl:`FeatureConnector.dtype` is deprecated. Please change your code to use NumPy with the field `FeatureConnector.np_dtype` or use TensorFlow with the field `FeatureConnector.tf_dtype`.\n"
     ]
    }
   ],
   "source": [
    "ds, info = tfds.load(\n",
    "    \"lfw\",\n",
    "    decoders=tfds.decode.PartialDecoding(\n",
    "        {\n",
    "            \"image\": True,\n",
    "        }\n",
    "    ),\n",
    "    with_info=True,\n",
    "    download=True,\n",
    "    as_supervised=False,\n",
    ")"
   ]
  },
  {
   "cell_type": "code",
   "execution_count": 10,
   "metadata": {},
   "outputs": [],
   "source": [
    "train_ds = ds[\"train\"]"
   ]
  },
  {
   "cell_type": "code",
   "execution_count": 11,
   "metadata": {},
   "outputs": [],
   "source": [
    "SEED = int.from_bytes(\"Pochita Lives\".encode())\n",
    "\n",
    "augmenter = Augmenter(\n",
    "    [\n",
    "        Rescaling(1.0 / 255),\n",
    "        Resizing(128, 128),\n",
    "    ]\n",
    ")\n",
    "\n",
    "noise_addition = Augmenter(\n",
    "    [\n",
    "        RandomContrast([0.0, 1.0], [-0.5, 0.5], seed=SEED),\n",
    "        RandomColorDegeneration([0, 0.5], seed=SEED),\n",
    "    ]\n",
    ")\n",
    "\n",
    "\n",
    "def preprocess_data(images):\n",
    "    inputs = {\"images\": images}\n",
    "    outputs_1 = augmenter(inputs)\n",
    "    outputs_2 = noise_addition(inputs)\n",
    "    return outputs_1[\"images\"], outputs_2[\"images\"]"
   ]
  },
  {
   "cell_type": "code",
   "execution_count": 12,
   "metadata": {},
   "outputs": [],
   "source": [
    "train_ds = (\n",
    "    train_ds.batch(BATCH_SIZE)\n",
    "    .map(lambda x: preprocess_data(x[\"image\"]), num_parallel_calls=AUTOTUNE)\n",
    "    .prefetch(AUTOTUNE)\n",
    ")"
   ]
  },
  {
   "cell_type": "markdown",
   "metadata": {},
   "source": [
    "## Metrics Computation"
   ]
  },
  {
   "cell_type": "code",
   "execution_count": 13,
   "metadata": {},
   "outputs": [
    {
     "name": "stderr",
     "output_type": "stream",
     "text": [
      "2024-02-22 00:03:41.036441: I external/local_xla/xla/stream_executor/cuda/cuda_dnn.cc:454] Loaded cuDNN version 8902\n",
      "2024-02-22 00:03:41.095469: I external/local_tsl/tsl/platform/default/subprocess.cc:304] Start cannot spawn child process: No such file or directory\n",
      "2024-02-22 00:03:41.404216: I external/local_tsl/tsl/platform/default/subprocess.cc:304] Start cannot spawn child process: No such file or directory\n"
     ]
    },
    {
     "name": "stdout",
     "output_type": "stream",
     "text": [
      "{'FLoss': <tf.Variable 'FLoss:0' shape=() dtype=float32, numpy=0.81959945>, 'arcface': <tf.Variable 'FLoss_arcface:0' shape=() dtype=float32, numpy=0.9021367>, 'deepface': <tf.Variable 'FLoss_deepface:0' shape=() dtype=float32, numpy=0.67260313>, 'deepid': <tf.Variable 'FLoss_deepid:0' shape=() dtype=float32, numpy=0.88405865>}\n",
      "<tf.Variable 'count:0' shape=() dtype=float32, numpy=1.0>\n",
      "Metrics:\n",
      " \tF-Dist: 0.820\n",
      " \tPerceptual: 0.567\n",
      "\n",
      "{'FLoss': <tf.Variable 'FLoss:0' shape=() dtype=float32, numpy=0.83037776>, 'arcface': <tf.Variable 'FLoss_arcface:0' shape=() dtype=float32, numpy=0.9368875>, 'deepface': <tf.Variable 'FLoss_deepface:0' shape=() dtype=float32, numpy=0.67565036>, 'deepid': <tf.Variable 'FLoss_deepid:0' shape=() dtype=float32, numpy=0.87859523>}\n",
      "<tf.Variable 'count:0' shape=() dtype=float32, numpy=1.0>\n",
      "Metrics:\n",
      " \tF-Dist: 0.830\n",
      " \tPerceptual: 1.167\n",
      "\n",
      "{'FLoss': <tf.Variable 'FLoss:0' shape=() dtype=float32, numpy=0.8285075>, 'arcface': <tf.Variable 'FLoss_arcface:0' shape=() dtype=float32, numpy=0.88209647>, 'deepface': <tf.Variable 'FLoss_deepface:0' shape=() dtype=float32, numpy=0.72190523>, 'deepid': <tf.Variable 'FLoss_deepid:0' shape=() dtype=float32, numpy=0.8815207>}\n",
      "<tf.Variable 'count:0' shape=() dtype=float32, numpy=1.0>\n",
      "Metrics:\n",
      " \tF-Dist: 0.829\n",
      " \tPerceptual: 1.752\n",
      "\n",
      "{'FLoss': <tf.Variable 'FLoss:0' shape=() dtype=float32, numpy=0.8114484>, 'arcface': <tf.Variable 'FLoss_arcface:0' shape=() dtype=float32, numpy=0.8941587>, 'deepface': <tf.Variable 'FLoss_deepface:0' shape=() dtype=float32, numpy=0.6521462>, 'deepid': <tf.Variable 'FLoss_deepid:0' shape=() dtype=float32, numpy=0.8880402>}\n",
      "<tf.Variable 'count:0' shape=() dtype=float32, numpy=1.0>\n",
      "Metrics:\n",
      " \tF-Dist: 0.811\n",
      " \tPerceptual: 2.348\n",
      "\n"
     ]
    },
    {
     "name": "stderr",
     "output_type": "stream",
     "text": [
      "2024-02-22 00:03:56.869986: W tensorflow/core/kernels/data/cache_dataset_ops.cc:858] The calling iterator did not fully read the dataset being cached. In order to avoid unexpected truncation of the dataset, the partially cached contents of the dataset  will be discarded. This can happen if you have an input pipeline similar to `dataset.cache().take(k).repeat()`. You should use `dataset.take(k).cache().repeat()` instead.\n"
     ]
    },
    {
     "name": "stdout",
     "output_type": "stream",
     "text": [
      "{'FLoss': <tf.Variable 'FLoss:0' shape=() dtype=float32, numpy=0.8297803>, 'arcface': <tf.Variable 'FLoss_arcface:0' shape=() dtype=float32, numpy=0.9140101>, 'deepface': <tf.Variable 'FLoss_deepface:0' shape=() dtype=float32, numpy=0.6961373>, 'deepid': <tf.Variable 'FLoss_deepid:0' shape=() dtype=float32, numpy=0.87919337>}\n",
      "<tf.Variable 'count:0' shape=() dtype=float32, numpy=1.0>\n",
      "Metrics:\n",
      " \tF-Dist: 0.830\n",
      " \tPerceptual: 2.931\n",
      "\n"
     ]
    }
   ],
   "source": [
    "for batch in train_ds.take(5):\n",
    "    embeddist.update_state(batch[0], batch[1])\n",
    "    perceptual = lpips(batch[0], batch[1])\n",
    "    print(\n",
    "        \"Metrics:\\n\",\n",
    "        \"\\tF-Dist: %0.3f\\n\" % (embeddist.result()[\"FLoss\"]),\n",
    "        \"\\tPerceptual: %0.3f\\n\" % (perceptual),\n",
    "    )\n",
    "    embeddist.reset_state()"
   ]
  }
 ],
 "metadata": {
  "kernelspec": {
   "display_name": "unet",
   "language": "python",
   "name": "python3"
  },
  "language_info": {
   "codemirror_mode": {
    "name": "ipython",
    "version": 3
   },
   "file_extension": ".py",
   "mimetype": "text/x-python",
   "name": "python",
   "nbconvert_exporter": "python",
   "pygments_lexer": "ipython3",
   "version": "3.11.7"
  }
 },
 "nbformat": 4,
 "nbformat_minor": 2
}
